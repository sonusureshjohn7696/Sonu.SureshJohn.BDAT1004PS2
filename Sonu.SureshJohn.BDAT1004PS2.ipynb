{
 "cells": [
  {
   "cell_type": "markdown",
   "id": "c38043a9-65f9-4b70-a8ee-bcd733f1a701",
   "metadata": {},
   "source": [
    "# Question 1\n",
    "Consider the following Python module: \r\n",
    " \r\n",
    "a = 0 \r\n",
    " \r\n",
    "def b(): \r\n",
    "    global a \r\n",
    "    a = c(a) \r\n",
    " \r\n",
    "def c(a): \r\n",
    "    return a + 2 \r\n",
    " \r\n",
    "After importing the module into the interpreter, you execute: \r\n",
    " \r\n",
    ">>> b() \r\n",
    ">>> b() \r\n",
    ">>> b() \r\n",
    ">>> a \r\n",
    "? \r\n",
    " \r\n",
    "What value is displayed when the last expression (a) is evaluated? Explain your \r\n",
    "answer by indicating what happens in every executed statement."
   ]
  },
  {
   "cell_type": "code",
   "execution_count": 2,
   "id": "a190199e-702b-4d56-8975-b444eb43899b",
   "metadata": {},
   "outputs": [],
   "source": [
    "\n",
    "a = 0 \n",
    " \n",
    "def b(): \n",
    "    global a \n",
    "    a = c(a) \n",
    " \n",
    "def c(a): \n",
    "    return a + 2 "
   ]
  },
  {
   "cell_type": "code",
   "execution_count": 4,
   "id": "839f6ef3-de42-4375-9110-a6602eac2610",
   "metadata": {},
   "outputs": [],
   "source": [
    "b()\n"
   ]
  },
  {
   "cell_type": "code",
   "execution_count": 6,
   "id": "d323e4c7-53b1-45ab-b1fe-ff22640d7659",
   "metadata": {},
   "outputs": [],
   "source": [
    "b()"
   ]
  },
  {
   "cell_type": "code",
   "execution_count": 8,
   "id": "f21fb544-60a5-4b5a-a98a-975778a9fdde",
   "metadata": {},
   "outputs": [],
   "source": [
    "b()"
   ]
  },
  {
   "cell_type": "code",
   "execution_count": 10,
   "id": "9679527e-2243-43dc-9191-b9e80ca474db",
   "metadata": {},
   "outputs": [
    {
     "data": {
      "text/plain": [
       "6"
      ]
     },
     "execution_count": 10,
     "metadata": {},
     "output_type": "execute_result"
    }
   ],
   "source": [
    "a"
   ]
  },
  {
   "cell_type": "markdown",
   "id": "bb78e0fa-172a-46e9-99e5-25f21438d77e",
   "metadata": {},
   "source": [
    "# Answer\n",
    "a is initialized to 0 at the module level.\r\n",
    "So initially, a = 0\n",
    "\n",
    "The function b() is called.\r\n",
    "Inside b(), the statement global a declares that we are referring to the global variable a.\r\n",
    "The next line executes a = c(a).\r\n",
    "The function c(a) is called with the current value of a, which is 0.\r\n",
    "Inside c(a), it computes return a + 2, which evaluates to 0 + 2 = 2.\r\n",
    "The return value 2 is assigned back to a, so now a\n",
    "\n",
    "The function b() is called again.\r\n",
    "It again declares global a, which now has the value 2.\r\n",
    "The line a = c(a) is executed.\r\n",
    "The function c(a) is called with the current value of a, which is 2.\r\n",
    "Inside c(a), it computes return a + 2, which evaluates to 2 + 2 = 4.\r\n",
    "The return value 4 is assigned back to a, so now a\n",
    "\n",
    "The function b() is called once more.\r\n",
    "It declares global a, which now has the value 4.\r\n",
    "The line a = c(a) is executed.\r\n",
    "The function c(a) is called with the current value of a, which is 4.\r\n",
    "Inside c(a), it computes return a + 2, which evaluates to 4 + 2 = 6.\r\n",
    "The return value 6 is assigned back to a, so now a\n",
    "\n",
    "Now, when we evaluate a, its current value is 6.\r\n",
    " = 6. = 4.\r\n",
    " = 2.."
   ]
  },
  {
   "cell_type": "markdown",
   "id": "0507b7b4-8ffc-44e1-add5-9068d6889640",
   "metadata": {},
   "source": [
    "# Question 2\n",
    "\n",
    "Function fileLength(), given to you, takes the name of a file as input and returns \r\n",
    "the length of the file: \r\n",
    " \r\n",
    ">>> fileLength('midterm.py') \r\n",
    "284 \r\n",
    ">>> fileLength('idterm.py') \r\n",
    "Traceback (most recent call last): \r\n",
    "  File \"<pyshell#34>\", line 1, in <module> \r\n",
    "    fileLength('idterm.py') \r\n",
    "  File \"/Users/me/midterm.py\", line 3, in fileLength \r\n",
    "    infile = open(filename) \r\n",
    "FileNotFoundError: [Errno 2] No such file or directory: \r\n",
    "'idterm.py' \r\n",
    " \r\n",
    "As shown above, if the file cannot be found by the interpreter or if it cannot be read \r\n",
    "as a text file, an exception will be raised. Modify function fileLength() so that a \r\n",
    "friendly message is printed instead: \r\n",
    " \r\n",
    ">>> fileLength('midterm.py') \r\n",
    "358 \r\n",
    ">>> fileLength('idterm.py') \r\n",
    "File idterm.py not found."
   ]
  },
  {
   "cell_type": "code",
   "execution_count": 25,
   "id": "332d24f5-d0b8-4658-8e1c-37f0aafdfece",
   "metadata": {},
   "outputs": [],
   "source": [
    "import os\n",
    "\n",
    "def fileLength(file_name):\n",
    "    if os.path.exists(file_name):\n",
    "        file = open(file_name)\n",
    "        contents = file.read()\n",
    "        file.close()\n",
    "        print(len(contents))\n",
    "    else:\n",
    "        print(f\"File {file_name} not found.\")"
   ]
  },
  {
   "cell_type": "code",
   "execution_count": 18,
   "id": "6b9f0ad0-328b-48e5-a1b5-11fe62b608f6",
   "metadata": {},
   "outputs": [
    {
     "data": {
      "text/plain": [
       "24467"
      ]
     },
     "execution_count": 18,
     "metadata": {},
     "output_type": "execute_result"
    }
   ],
   "source": [
    "fileLength('Sonu.SureshJohn.BDAT1004PS1.ipynb')\n"
   ]
  },
  {
   "cell_type": "code",
   "execution_count": 20,
   "id": "5d9503a3-e4a4-4895-abb9-94d0a0ed13f3",
   "metadata": {},
   "outputs": [
    {
     "name": "stdout",
     "output_type": "stream",
     "text": [
      "File Sonu.SureshJhn.BDAT1004PS1.ipynb not found.\n"
     ]
    }
   ],
   "source": [
    "fileLength('Sonu.SureshJhn.BDAT1004PS1.ipynb')\n"
   ]
  },
  {
   "cell_type": "markdown",
   "id": "0cae139e-c4d3-40c6-8348-510aaa2cf440",
   "metadata": {},
   "source": [
    "# Question 3\n",
    "Write a class named Marsupial that can be used as shown below: \r\n",
    " \r\n",
    ">>> m = Marsupial() \r\n",
    ">>> m.put_in_pouch('doll') \r\n",
    ">>> m.put_in_pouch('firetruck') \r\n",
    ">>> m.put_in_pouch('kitten') \r\n",
    ">>> m.pouch_contents() \r\n",
    "['doll', 'firetruck', 'k\n",
    ">>> \n",
    "Now write a class named Kangaroo as a subclass of Marsupial that inherits all the \r\n",
    "attributes of Marsupial and also: \r\n",
    "a. extends the Marsupial __init__ constructor to take, as input, the \r\n",
    "coordinates x and y of the Kangaroo object, \r\n",
    "b. supports method jump that takes number values dx and dy as input and \r\n",
    "moves the kangaroo by dx units along the x-axis and by dy units along the y\r\n",
    "axis, and \r\n",
    "c. overloads the __str__ operator so it behaves as shown \n",
    ">>> k = Kangaroo(0,0) \r\n",
    ">>> print(k) \r\n",
    "I am a Kangaroo located at coordinates (0,0) \r\n",
    ">>> k.put_in_pouch('doll') \r\n",
    ">>> k.put_in_pouch('firetruck') \r\n",
    ">>> k.put_in_pouch('kitten') \r\n",
    ">>> k.pouch_contents() \r\n",
    "['doll', 'firetruck', 'kitten'] \r\n",
    ">>> k.jump(1,0) \r\n",
    ">>> k.jump(1,0) \r\n",
    ">>> k.jump(1,0) \r\n",
    ">>> print(k) \r\n",
    "I am a Kangaroo located at coordinates (3,0) below. itten']"
   ]
  },
  {
   "cell_type": "code",
   "execution_count": 58,
   "id": "87d8372d-a0c3-4384-8f1b-fac57d466c77",
   "metadata": {},
   "outputs": [],
   "source": [
    "class Marsupial:\n",
    "    def __init__(self):\n",
    "        self.pouch = []                           # Initialize an empty pouch list\n",
    "        \n",
    "    def put_in_pouch(self, item):                 \n",
    "        self.pouch.append(item)                   # Add item to the pouch list\n",
    "        \n",
    "    def pouch_contents(self):\n",
    "        return self.pouch                         # Return the contents of the pouch list\n",
    "\n",
    "\n",
    "class Kangaroo(Marsupial):\n",
    "    def __init__(self, x, y):\n",
    "        super().__init__()                        # Call the constructor of the base class (Marsupial)\n",
    "        self.x = x                                # Initialize the x-coordinate of the kangaro\n",
    "        self.y = y                                # Initialize the y-coordinate of the kangaroo\n",
    "        \n",
    "    def jump(self, dx, dy):\n",
    "        self.x += dx                               # Move the kangaroo along the x-axis by dx units\n",
    "        self.y += dy                               # Move the kangaroo along the y-axis by dy units\n",
    "        \n",
    "    def __str__(self):\n",
    "        return f\"I am a Kangaroo located at coordinates ({self.x},{self.y})\""
   ]
  },
  {
   "cell_type": "code",
   "execution_count": 60,
   "id": "950e7dae-5ce4-40a9-a2d8-94d57724b20f",
   "metadata": {},
   "outputs": [
    {
     "data": {
      "text/plain": [
       "['doll', 'firetruck', 'kitten']"
      ]
     },
     "execution_count": 60,
     "metadata": {},
     "output_type": "execute_result"
    }
   ],
   "source": [
    "m = Marsupial()\n",
    "m.put_in_pouch('doll') \n",
    "m.put_in_pouch('firetruck')\n",
    "m.put_in_pouch('kitten') \n",
    "m.pouch_contents() \n"
   ]
  },
  {
   "cell_type": "code",
   "execution_count": 62,
   "id": "293bc6cc-dfd6-45a8-8eb9-9cf221d5da4b",
   "metadata": {},
   "outputs": [],
   "source": [
    "k = Kangaroo(0,0)"
   ]
  },
  {
   "cell_type": "code",
   "execution_count": 64,
   "id": "5cf3c646-2935-4593-8b84-0b5e6694c864",
   "metadata": {},
   "outputs": [
    {
     "name": "stdout",
     "output_type": "stream",
     "text": [
      "I am a Kangaroo located at coordinates (0,0)\n"
     ]
    }
   ],
   "source": [
    "print(k) "
   ]
  },
  {
   "cell_type": "code",
   "execution_count": 66,
   "id": "d72115b5-d769-45ed-ab91-a0f659dc2bff",
   "metadata": {},
   "outputs": [
    {
     "data": {
      "text/plain": [
       "['doll', 'firetruck', 'kitten']"
      ]
     },
     "execution_count": 66,
     "metadata": {},
     "output_type": "execute_result"
    }
   ],
   "source": [
    "k.put_in_pouch('doll') \n",
    "k.put_in_pouch('firetruck') \n",
    "k.put_in_pouch('kitten')\n",
    "k.pouch_contents() "
   ]
  },
  {
   "cell_type": "code",
   "execution_count": 68,
   "id": "0e68f3d6-afdf-4000-9f0c-a346532e8955",
   "metadata": {},
   "outputs": [
    {
     "name": "stdout",
     "output_type": "stream",
     "text": [
      "I am a Kangaroo located at coordinates (3,0)\n"
     ]
    }
   ],
   "source": [
    "k.jump(1,0) \n",
    "k.jump(1,0)\n",
    "k.jump(1,0) \n",
    "print(k) "
   ]
  },
  {
   "cell_type": "markdown",
   "id": "7b43607d-6309-406f-b92e-634c411b5df2",
   "metadata": {},
   "source": [
    "# Question 4\n",
    "Write function collatz() that takes a positive integer x as input and prints the \r\n",
    "Collatz sequence starting at x. A Collatz sequence is obtained by repeatedly applying \r\n",
    "this rule to the previous number x in the sequence: \r\n",
    "  \r\n",
    "x = {  𝑥/2                    𝑖𝑓 𝑥 𝑖𝑠 𝑒𝑣𝑒𝑛\r\n",
    " 3𝑥+1               𝑖𝑓 𝑥 𝑖𝑠 𝑜𝑑𝑑 \r\n",
    " \r\n",
    "Your function should stop when the sequence gets to number 1. Your \r\n",
    "implementation must be recursive, without an\n",
    ">>>collatz(1) \n",
    "1 \n",
    ">>> collatz(10) \n",
    "10 \n",
    "5 \n",
    "16 \n",
    "8 \n",
    "4 \n",
    "2 \n",
    "1y loops."
   ]
  },
  {
   "cell_type": "code",
   "execution_count": 70,
   "id": "b7ef3d94-504f-4eea-befc-089c6a370b64",
   "metadata": {},
   "outputs": [],
   "source": [
    "def collatz(x):\n",
    "    print(x)\n",
    "    if x == 1:\n",
    "        return\n",
    "    if x % 2 == 0:\n",
    "        collatz(x // 2)  \n",
    "    else:\n",
    "        collatz(3 * x + 1) "
   ]
  },
  {
   "cell_type": "code",
   "execution_count": 72,
   "id": "d06a6631-2a99-41c5-8203-1958d14efeac",
   "metadata": {},
   "outputs": [
    {
     "name": "stdout",
     "output_type": "stream",
     "text": [
      "1\n"
     ]
    }
   ],
   "source": [
    "collatz(1) "
   ]
  },
  {
   "cell_type": "code",
   "execution_count": 74,
   "id": "2543d960-0049-44a3-bee7-627458e63954",
   "metadata": {},
   "outputs": [
    {
     "name": "stdout",
     "output_type": "stream",
     "text": [
      "10\n",
      "5\n",
      "16\n",
      "8\n",
      "4\n",
      "2\n",
      "1\n"
     ]
    }
   ],
   "source": [
    "collatz(10) "
   ]
  },
  {
   "cell_type": "markdown",
   "id": "f508a2ac-5e1e-414f-b7ad-63469179ed20",
   "metadata": {},
   "source": [
    "# Question 5\n",
    "Write a recursive method binary() that takes a non-negative \n",
    "integer n and prints the binary representation of integer n. \n",
    " \n",
    ">>> binary(0) \n",
    "0 \n",
    ">>> binary(1) \n",
    "1 \n",
    ">>> binary(3) \n",
    "11 \n",
    ">>> binary(9) \n",
    "1001 "
   ]
  },
  {
   "cell_type": "code",
   "execution_count": 106,
   "id": "d4889039-0525-43e6-af5d-c09f9f5e6692",
   "metadata": {},
   "outputs": [],
   "source": [
    "def binary(n):\n",
    "    if n == 0:\n",
    "        print(0, end='')      \n",
    "    elif n == 1:              \n",
    "        print(1, end='')     \n",
    "    else:\n",
    "        binary(n // 2)  \n",
    "        print(n % 2, end='')  "
   ]
  },
  {
   "cell_type": "code",
   "execution_count": 108,
   "id": "43ac2739-9117-4b0a-bfd8-d23250e74152",
   "metadata": {},
   "outputs": [
    {
     "name": "stdout",
     "output_type": "stream",
     "text": [
      "0"
     ]
    }
   ],
   "source": [
    " binary(0)"
   ]
  },
  {
   "cell_type": "code",
   "execution_count": 110,
   "id": "540a1fac-ea21-4e99-8ad8-ad8d76a857db",
   "metadata": {},
   "outputs": [
    {
     "name": "stdout",
     "output_type": "stream",
     "text": [
      "1"
     ]
    }
   ],
   "source": [
    "binary(1)"
   ]
  },
  {
   "cell_type": "code",
   "execution_count": 112,
   "id": "66d9dad4-2b42-4304-8462-f3144d65a37b",
   "metadata": {},
   "outputs": [
    {
     "name": "stdout",
     "output_type": "stream",
     "text": [
      "11"
     ]
    }
   ],
   "source": [
    "binary(3)"
   ]
  },
  {
   "cell_type": "code",
   "execution_count": 114,
   "id": "0f540643-2f98-4988-a09b-64a39aa4d5d0",
   "metadata": {},
   "outputs": [
    {
     "name": "stdout",
     "output_type": "stream",
     "text": [
      "1001"
     ]
    }
   ],
   "source": [
    "binary(9)"
   ]
  },
  {
   "cell_type": "markdown",
   "id": "6b8910a5-1940-4b97-919e-ddb42319a488",
   "metadata": {},
   "source": [
    "# Question 6\n",
    "Implement a class named HeadingParser that can be used to parse an HTML \n",
    "document, and retrieve and print all the headings in the document. You should\r\n",
    "implement your class as a subclass of HTMLParser, defined in Standard Librar \r\n",
    "module html.parser. When fed a string containing HTML code, your class shoud \r\n",
    "print the headings, one per line and in the order in which they appear in he \r\n",
    "document. Each heading should be indented as follows:  n h1 heading should indentation 0, and h2 heading should have indentation 1, etc. Test your \n",
    "implementation using w3c.html. \r\n",
    " \r\n",
    ">>> infile = open('w3c.html') \r\n",
    ">>> content = infile.read() \r\n",
    ">>> infile.close() \r\n",
    ">>> hp = HeadingParser() \r\n",
    ">>> hp.feed(content) \r\n",
    "W3C Mission \r\n",
    " Principles have \r\n"
   ]
  },
  {
   "cell_type": "code",
   "execution_count": 47,
   "id": "2ea71728-8227-4acc-abc8-f991138d1602",
   "metadata": {},
   "outputs": [],
   "source": [
    "from html.parser import HTMLParser\n",
    "class HeadingParser(HTMLParser):\n",
    "    \n",
    "    def __init__(self):\n",
    "        HTMLParser.__init__(self)\n",
    "        self.heading = False\n",
    "        self.indent = 0    \n",
    "\n",
    "    def handle_starttag(self, tag, attrs):\n",
    "        if tag == 'h1':\n",
    "            self.heading=True\n",
    "        elif tag == 'h2':\n",
    "            self.heading=True\n",
    "            self.indent=1\n",
    "            \n",
    "    def handle_data(self,content):\n",
    "        if (self.heading and self.indent ==0):   \n",
    "            print(content) #prints h1\n",
    "        elif (self.heading and self.indent ==1): \n",
    "            print(' ',content)    #prints h2"
   ]
  },
  {
   "cell_type": "code",
   "execution_count": 66,
   "id": "d406a882-b625-44a2-9208-5c0dddbbb0c6",
   "metadata": {},
   "outputs": [],
   "source": [
    "infile = open(\"C:\\\\Users\\\\Sonu John\\\\Desktop\\\\w3c.html\", \"r\")\n",
    "content = infile.read()\n",
    "infile.close()\n",
    "headingparser = HeadingParser() \n",
    "headingparser.feed(content) "
   ]
  },
  {
   "cell_type": "markdown",
   "id": "feb16759-cf21-4eda-af8d-5aeb63429fee",
   "metadata": {},
   "source": [
    "# Question 7\n",
    "Implement recursive function webdir() that takes as input: a URL (as a string) and \n",
    "non-negative integers depth and indent. Your function should visit every web\r\n",
    "page reachable from the starting URL web page in depth clicks or less, and prin \r\n",
    "each web page's URL. As shown below, indentation, specified by indent,  shoud \r\n",
    "be used to indicate the depth of a URL. \r\n",
    " \r\n",
    ">>> \r\n",
    "webdir('http://reed.cs.depaul.edu/lperkovic/csc242/test1.html'\r\n",
    " , 2, 0) \r\n",
    "http://reed.cs.depaul.edu/lperkovic/csc242/test1.html \r\n",
    "    http://reed.cs.depaul.edu/lperkovic/csc242/test2.html \r\n",
    "        http://reed.cs.depaul.edu/lperkovic/csc242/test4.html \r\n",
    "    http://reed.cs.depaul.edu/lperkovic/csc242/test3.html \r\n",
    "        http://reed.cs.depaul.edu/lperkovic/csc242/test4.html"
   ]
  },
  {
   "cell_type": "code",
   "execution_count": 45,
   "id": "0fcdf6f3-d95a-4578-b01e-c146d335e1f2",
   "metadata": {},
   "outputs": [
    {
     "name": "stdout",
     "output_type": "stream",
     "text": [
      "http://reed.cs.depaul.edu/lperkovic/one.html\n",
      "\t http://reed.cs.depaul.edu/lperkovic/two.html\n",
      " http://reed.cs.depaul.edu/lperkovic/two.html\n",
      " http://reed.cs.depaul.edu/lperkovic/four.html\n"
     ]
    }
   ],
   "source": [
    "from urllib.parse import urljoin\n",
    "from urllib.request import urlopen\n",
    "from html.parser import HTMLParser\n",
    "class Collector(HTMLParser):\n",
    "    def __init__(self, url):\n",
    "        HTMLParser.__init__(self)\n",
    "        self.url = url\n",
    "        self.links = []\n",
    "\n",
    "    def handle_starttag(self, tag, attrs):\n",
    "        if tag == 'a':\n",
    "            for attr in attrs:\n",
    "                if attr[0] == 'href':\n",
    "                    # construct absolute URL\n",
    "                    absolute = urljoin(self.url, attr[1])\n",
    "                    if absolute[:4] == 'http': # collect HTTP URLs\n",
    "                        self.links.append(absolute)\n",
    "                        \n",
    "    def getLinks(self):\n",
    "        'returns hyperlinks URLs in their absolute format'\n",
    "        return self.links\n",
    "\n",
    "    \n",
    "def analyze(url):\n",
    "    \n",
    "    if len(visited) ==1:\n",
    "        print(url)\n",
    "    content = urlopen(url).read().decode()\n",
    "    collector = Collector(url)\n",
    "    collector.feed(content)\n",
    "    urls = collector.getLinks()         \n",
    "    return urls\n",
    "\n",
    "\n",
    "visited= set()\n",
    "\n",
    "def webdir(url,depth,indent):\n",
    "   \n",
    "    first_url=url\n",
    "    global visited \n",
    "    visited.add(url)\n",
    "\n",
    "    links = analyze(url)\n",
    "    for link in links:\n",
    "        if link not in visited:\n",
    "            try:                \n",
    "                if len(visited) <= depth:\n",
    "                    if len(visited) <= (depth-1):\n",
    "                        print( (depth-1)*'\\t',link)\n",
    "                    print( indent*'\\t',link)\n",
    "                webdir(link,depth,indent)                \n",
    "            except:\n",
    "                pass\n",
    "\n",
    "webdir('http://reed.cs.depaul.edu/lperkovic/one.html', 2, 0)"
   ]
  },
  {
   "cell_type": "markdown",
   "id": "7253361f-a772-4c03-8225-1a517c536c0d",
   "metadata": {},
   "source": [
    "# Question 8\n",
    "Write SQL queries on the below database table that return:  \r\n",
    "a) All the temperature data. \r\n",
    "b) All the cities, but without repetition. \r\n",
    "c) All the records for India. \r\n",
    "d) All the Fall recor\n",
    "e) The city, country, and season for which the average rainfall is between 200 \r\n",
    "and 400 millimeters. \r\n",
    "f) The city and country for which the average Fall temperature is above 20 \r\n",
    "degrees, in increasing temperature order. \r\n",
    "g) The total annual rainfall for Cairo. \r\n",
    "h) The total rainfall for each season.ds. \r\n"
   ]
  },
  {
   "cell_type": "code",
   "execution_count": 35,
   "id": "eb056a20-045b-4ccd-908c-ae28229d7c00",
   "metadata": {},
   "outputs": [],
   "source": [
    "import sqlite3\n",
    "con = sqlite3.connect('weatherdatafinal2.db')  \n",
    " \n",
    "cur = con.cursor() \n",
    "\n",
    "cur.execute(\"CREATE TABLE weather_data (City, Country, Season, Temperature, Rainfall)\")  \n",
    "\n",
    "values = [\n",
    "    ['Mumbai', 'India', 'Winter', 24.8, 5.9],\n",
    "    ['Mumbai', 'India', 'Spring', 28.4, 16.2],\n",
    "    ['Mumbai', 'India', 'Summer', 27.9, 1549.4],\n",
    "    ['Mumbai', 'India', 'Fall', 27.6, 346.0],\n",
    "    ['London', 'United Kingdom', 'Winter', 4.2, 207.7],\n",
    "    ['London', 'United Kingdom', 'Spring', 8.3, 169.6],\n",
    "    ['London', 'United Kingdom', 'Summer', 15.7, 157.0],\n",
    "    ['London', 'United Kingdom', 'Fall', 10.4, 218.5],\n",
    "    ['Cairo', 'Egypt', 'Winter', 13.6, 16.5],\n",
    "    ['Cairo', 'Egypt', 'Spring', 20.7, 6.5],\n",
    "    ['Cairo', 'Egypt', 'Summer', 27.7, 0.1],\n",
    "    ['Cairo', 'Egypt', 'Fall', 22.2, 4.5]\n",
    "]\n",
    "\n",
    "for value in values:\n",
    "    cur.execute(\"INSERT INTO weather_data VALUES (?, ?, ?, ?, ?)\", value)\n",
    "\n",
    "con.commit() \n",
    "con.close() "
   ]
  },
  {
   "cell_type": "code",
   "execution_count": null,
   "id": "0748e6ec-e264-49b7-9d49-35f60dde6ffe",
   "metadata": {},
   "outputs": [],
   "source": [
    "#Answers"
   ]
  },
  {
   "cell_type": "code",
   "execution_count": 247,
   "id": "d1b36cb8-f0fe-41f5-91bd-708d4c1741c6",
   "metadata": {},
   "outputs": [
    {
     "name": "stdout",
     "output_type": "stream",
     "text": [
      "24.8\n",
      "28.4\n",
      "27.9\n",
      "27.6\n",
      "4.2\n",
      "8.3\n",
      "15.7\n",
      "10.4\n",
      "13.6\n",
      "20.7\n",
      "27.7\n",
      "22.2\n"
     ]
    }
   ],
   "source": [
    "#a) All the temperature data.\n",
    "\n",
    "con = sqlite3.connect('weatherdatafinal2.db')   \n",
    "cur = con.cursor()  \n",
    "cur.execute('SELECT Temperature FROM weather_data')  # execute the query to fetch all temperature data\n",
    "\n",
    "temperature_data = cur.fetchall()  \n",
    "\n",
    "for temperature in temperature_data:\n",
    "    print(temperature[0])"
   ]
  },
  {
   "cell_type": "code",
   "execution_count": 249,
   "id": "6554f20a-ae6a-461a-ae87-b1fb1d378d75",
   "metadata": {},
   "outputs": [
    {
     "name": "stdout",
     "output_type": "stream",
     "text": [
      "Mumbai\n",
      "London\n",
      "Cairo\n"
     ]
    }
   ],
   "source": [
    "#b) All the cities, but without repetition\n",
    "\n",
    "con = sqlite3.connect('weatherdatafinal2.db')\n",
    "cur = con.cursor()\n",
    "cur.execute(\"SELECT DISTINCT City FROM weather_data\") \n",
    "\n",
    "cities = cur.fetchall()\n",
    "\n",
    "for city in cities:\n",
    "    print(city[0])"
   ]
  },
  {
   "cell_type": "code",
   "execution_count": 251,
   "id": "f1f9d24f-7d55-4d55-90ea-1e5d6aa38734",
   "metadata": {},
   "outputs": [
    {
     "name": "stdout",
     "output_type": "stream",
     "text": [
      "('Mumbai', 'India', 'Winter', 24.8, 5.9)\n",
      "('Mumbai', 'India', 'Spring', 28.4, 16.2)\n",
      "('Mumbai', 'India', 'Summer', 27.9, 1549.4)\n",
      "('Mumbai', 'India', 'Fall', 27.6, 346.0)\n"
     ]
    }
   ],
   "source": [
    "#c) All the records for India\n",
    "con = sqlite3.connect('weatherdatafinal2.db')\n",
    "cur = con.cursor()\n",
    "cur.execute(\"SELECT * FROM weather_data WHERE Country = 'India'\")\n",
    "\n",
    "india_records = cur.fetchall()\n",
    "\n",
    "for record in india_records:\n",
    "    print(record)"
   ]
  },
  {
   "cell_type": "code",
   "execution_count": 253,
   "id": "f318afe4-3cf0-49b3-81e3-2b990ec1e072",
   "metadata": {},
   "outputs": [
    {
     "name": "stdout",
     "output_type": "stream",
     "text": [
      "('Mumbai', 'India', 'Fall', 27.6, 346.0)\n",
      "('London', 'United Kingdom', 'Fall', 10.4, 218.5)\n",
      "('Cairo', 'Egypt', 'Fall', 22.2, 4.5)\n"
     ]
    }
   ],
   "source": [
    "#d) All the Fall records.\n",
    "con = sqlite3.connect('weatherdatafinal2.db')\n",
    "cur = con.cursor()\n",
    "cur.execute(\"SELECT * FROM weather_data WHERE Season = 'Fall'\")\n",
    "\n",
    "fall_records = cur.fetchall()\n",
    "\n",
    "for record in fall_records:\n",
    "    print(record)"
   ]
  },
  {
   "cell_type": "code",
   "execution_count": 207,
   "id": "d6e89218-d8e8-43b6-9308-26bb2a162177",
   "metadata": {},
   "outputs": [
    {
     "name": "stdout",
     "output_type": "stream",
     "text": [
      "('London', 'United Kingdom', 'Fall')\n",
      "('London', 'United Kingdom', 'Winter')\n",
      "('Mumbai', 'India', 'Fall')\n"
     ]
    }
   ],
   "source": [
    "#e) The city, country, and season for which the average rainfall is between 200 and 400 millimeters.\n",
    "con = sqlite3.connect('weatherdatafinal2.db')\n",
    "cur = con.cursor()\n",
    "cur.execute(\"SELECT City, Country, Season FROM weather_data GROUP BY City, Country, Season HAVING AVG(Rainfall) BETWEEN 200 AND 400\")\n",
    "\n",
    "records = cur.fetchall()\n",
    "\n",
    "for record in records:\n",
    "    print(record)"
   ]
  },
  {
   "cell_type": "code",
   "execution_count": 255,
   "id": "6e08d1df-5367-4a12-8ff3-8e2e7b24e1af",
   "metadata": {},
   "outputs": [
    {
     "name": "stdout",
     "output_type": "stream",
     "text": [
      "('Cairo', 'Egypt')\n",
      "('Mumbai', 'India')\n"
     ]
    }
   ],
   "source": [
    "#f) The city and country for which the average Fall temperature is above 20 degrees, in increasing temperature order. \n",
    "con = sqlite3.connect('weatherdatafinal2.db')\n",
    "cur = con.cursor()\n",
    "cur.execute(\"SELECT City, Country FROM weather_data WHERE Season = 'Fall' GROUP BY City, Country HAVING AVG(Temperature) > 20 ORDER BY AVG(Temperature)\")\n",
    "\n",
    "records = cur.fetchall()\n",
    "\n",
    "for record in records:\n",
    "    print(record)"
   ]
  },
  {
   "cell_type": "code",
   "execution_count": 257,
   "id": "d2d8cddb-ea9c-4b8a-a51d-c3f7e6375fa5",
   "metadata": {},
   "outputs": [
    {
     "name": "stdout",
     "output_type": "stream",
     "text": [
      "27.6\n"
     ]
    }
   ],
   "source": [
    "#g) The total annual rainfall for Cairo\n",
    "con = sqlite3.connect('weatherdatafinal2.db')\n",
    "cur = con.cursor()\n",
    "cur.execute(\"SELECT SUM(Rainfall) FROM weather_data WHERE City = 'Cairo'\")\n",
    "\n",
    "total_rainfall = cur.fetchone()[0]\n",
    "\n",
    "print(total_rainfall)"
   ]
  },
  {
   "cell_type": "code",
   "execution_count": 259,
   "id": "43b49aa2-aefe-423a-83bc-49b23a7af0bb",
   "metadata": {},
   "outputs": [
    {
     "name": "stdout",
     "output_type": "stream",
     "text": [
      "('Fall', 569.0)\n",
      "('Spring', 192.29999999999998)\n",
      "('Summer', 1706.5)\n",
      "('Winter', 230.1)\n"
     ]
    }
   ],
   "source": [
    "#h) The total rainfall for each season.\n",
    "con = sqlite3.connect('weatherdatafinal2.db')\n",
    "cur = con.cursor()\n",
    "cur.execute(\"SELECT Season, SUM(Rainfall) FROM weather_data GROUP BY Season\")\n",
    "\n",
    "records = cur.fetchall()\n",
    "\n",
    "for record in records:\n",
    "    print(record)"
   ]
  },
  {
   "cell_type": "markdown",
   "id": "ea1e80a7-b972-4bdc-ab75-b1980d017d19",
   "metadata": {},
   "source": [
    "# Question 9 \n",
    " Suppose list words is defined as follows: \r\n",
    ">>> words = ['The', 'quick', 'brown', 'fox', 'jumps', 'over', \r\n",
    "'the', 'lazy', 'dog'] \r\n",
    "Write list comprehension expressions that use list words and generate the following \r\n",
    "lists: \r\n",
    "a) ['THE', 'QUICK', 'BROWN', 'FOX', 'JUMPS', 'OVER', 'THE', \r\n",
    "'LAZY', 'DOG'] \r\n",
    "b) ['the', 'quick', 'brown', 'fox', 'jumps', 'over', 'the', \r\n",
    "'lazy', 'dog'] \r\n",
    "c) [3, 5, 5, 3, 5, 4, 3, 4, 3] (the list of lengths of words in list \r\n",
    "words). \r\n",
    "d) [['THE', 'the', 3], ['QUICK', 'quick', 5], ['BROWN', \r\n",
    "'brown', 5], ['FOX', 'fox', 3], ['JUMPS', 'jumps', 5], \r\n",
    "['OVER', 'over', 4], ['THE', 'the', 3], ['LAZY', 'lazy', \r\n",
    "4], ['DOG', 'dog', 3]] (the list containing a list for every word of list \r\n",
    "words, where each list contains the word in uppercase and lowercase and the \r\n",
    "length of the word.) \r\n",
    "e) ['The', 'quick', 'brown', 'fox', 'jumps', 'over', 'the', \r\n",
    "'lazy', 'dog'] (the list of words in list words containing 4 or more \r\n",
    "characters.)"
   ]
  },
  {
   "cell_type": "code",
   "execution_count": 29,
   "id": "fbd232e0-ee27-407d-94ce-58a4ec467c8d",
   "metadata": {},
   "outputs": [],
   "source": [
    "words = ['The', 'quick', 'brown', 'fox', 'jumps', 'over', 'the', 'lazy', 'dog']\n",
    "\n",
    "# part a\n",
    "upper_case_words = [word.upper() for word in words]\n",
    "\n",
    "# part b\n",
    "lower_case_words = [word.lower() for word in words]\n",
    "\n",
    "# part c \n",
    "word_lengths = [len(word) for word in words]\n",
    "\n",
    "# part d\n",
    "word_info = [[word.upper(), word.lower(), len(word)] for word in words]\n",
    "\n",
    "# part e\n",
    "words_4_or_more = [word for word in words if len(word) >= 4]"
   ]
  },
  {
   "cell_type": "code",
   "execution_count": 31,
   "id": "896b4cf3-07dd-4869-8952-92de8ffd5c70",
   "metadata": {},
   "outputs": [
    {
     "name": "stdout",
     "output_type": "stream",
     "text": [
      "a)  ['THE', 'QUICK', 'BROWN', 'FOX', 'JUMPS', 'OVER', 'THE', 'LAZY', 'DOG']\n",
      "b)  ['the', 'quick', 'brown', 'fox', 'jumps', 'over', 'the', 'lazy', 'dog']\n",
      "c)  [3, 5, 5, 3, 5, 4, 3, 4, 3]\n",
      "d)  [['THE', 'the', 3], ['QUICK', 'quick', 5], ['BROWN', 'brown', 5], ['FOX', 'fox', 3], ['JUMPS', 'jumps', 5], ['OVER', 'over', 4], ['THE', 'the', 3], ['LAZY', 'lazy', 4], ['DOG', 'dog', 3]]\n",
      "e)  ['quick', 'brown', 'jumps', 'over', 'lazy']\n"
     ]
    }
   ],
   "source": [
    "#Answers\n",
    "print(\"a) \", upper_case_words)\n",
    "print(\"b) \", lower_case_words)\n",
    "print(\"c) \", word_lengths)\n",
    "print(\"d) \", word_info)\n",
    "print(\"e) \", words_4_or_more)"
   ]
  },
  {
   "cell_type": "code",
   "execution_count": null,
   "id": "8cfefafe-6084-467b-b8a8-7623386fc870",
   "metadata": {},
   "outputs": [],
   "source": []
  }
 ],
 "metadata": {
  "kernelspec": {
   "display_name": "Python 3 (ipykernel)",
   "language": "python",
   "name": "python3"
  },
  "language_info": {
   "codemirror_mode": {
    "name": "ipython",
    "version": 3
   },
   "file_extension": ".py",
   "mimetype": "text/x-python",
   "name": "python",
   "nbconvert_exporter": "python",
   "pygments_lexer": "ipython3",
   "version": "3.12.4"
  }
 },
 "nbformat": 4,
 "nbformat_minor": 5
}
